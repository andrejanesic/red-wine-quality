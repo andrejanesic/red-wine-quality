{
 "cells": [
  {
   "cell_type": "markdown",
   "metadata": {},
   "source": [
    "# Red wine quality\n",
    "\n",
    "Practice ML model to determine red wine quality based on Kaggle dataset."
   ]
  },
  {
   "cell_type": "markdown",
   "metadata": {},
   "source": [
    "## 1. Imports\n",
    "\n",
    "Import dependencies required by the app."
   ]
  },
  {
   "cell_type": "code",
   "execution_count": 167,
   "metadata": {},
   "outputs": [
    {
     "data": {
      "text/plain": [
       "{'divide': 'raise', 'over': 'raise', 'under': 'raise', 'invalid': 'raise'}"
      ]
     },
     "execution_count": 167,
     "metadata": {},
     "output_type": "execute_result"
    }
   ],
   "source": [
    "import numpy as np\n",
    "import pandas as pd\n",
    "import matplotlib.pyplot as mp\n",
    "np.seterr(all='raise')"
   ]
  },
  {
   "cell_type": "markdown",
   "metadata": {},
   "source": [
    "## 2. Load dataset\n",
    "\n",
    "Loads the dataset. Prints the first 5 rows to ensure everything is correct."
   ]
  },
  {
   "cell_type": "code",
   "execution_count": 168,
   "metadata": {},
   "outputs": [
    {
     "data": {
      "text/html": [
       "<div>\n",
       "<style scoped>\n",
       "    .dataframe tbody tr th:only-of-type {\n",
       "        vertical-align: middle;\n",
       "    }\n",
       "\n",
       "    .dataframe tbody tr th {\n",
       "        vertical-align: top;\n",
       "    }\n",
       "\n",
       "    .dataframe thead th {\n",
       "        text-align: right;\n",
       "    }\n",
       "</style>\n",
       "<table border=\"1\" class=\"dataframe\">\n",
       "  <thead>\n",
       "    <tr style=\"text-align: right;\">\n",
       "      <th></th>\n",
       "      <th>fixed acidity</th>\n",
       "      <th>volatile acidity</th>\n",
       "      <th>citric acid</th>\n",
       "      <th>residual sugar</th>\n",
       "      <th>chlorides</th>\n",
       "      <th>free sulfur dioxide</th>\n",
       "      <th>total sulfur dioxide</th>\n",
       "      <th>density</th>\n",
       "      <th>pH</th>\n",
       "      <th>sulphates</th>\n",
       "      <th>alcohol</th>\n",
       "      <th>quality</th>\n",
       "    </tr>\n",
       "  </thead>\n",
       "  <tbody>\n",
       "    <tr>\n",
       "      <th>0</th>\n",
       "      <td>7.4</td>\n",
       "      <td>0.70</td>\n",
       "      <td>0.00</td>\n",
       "      <td>1.9</td>\n",
       "      <td>0.076</td>\n",
       "      <td>11.0</td>\n",
       "      <td>34.0</td>\n",
       "      <td>0.9978</td>\n",
       "      <td>3.51</td>\n",
       "      <td>0.56</td>\n",
       "      <td>9.4</td>\n",
       "      <td>5</td>\n",
       "    </tr>\n",
       "    <tr>\n",
       "      <th>1</th>\n",
       "      <td>7.8</td>\n",
       "      <td>0.88</td>\n",
       "      <td>0.00</td>\n",
       "      <td>2.6</td>\n",
       "      <td>0.098</td>\n",
       "      <td>25.0</td>\n",
       "      <td>67.0</td>\n",
       "      <td>0.9968</td>\n",
       "      <td>3.20</td>\n",
       "      <td>0.68</td>\n",
       "      <td>9.8</td>\n",
       "      <td>5</td>\n",
       "    </tr>\n",
       "    <tr>\n",
       "      <th>2</th>\n",
       "      <td>7.8</td>\n",
       "      <td>0.76</td>\n",
       "      <td>0.04</td>\n",
       "      <td>2.3</td>\n",
       "      <td>0.092</td>\n",
       "      <td>15.0</td>\n",
       "      <td>54.0</td>\n",
       "      <td>0.9970</td>\n",
       "      <td>3.26</td>\n",
       "      <td>0.65</td>\n",
       "      <td>9.8</td>\n",
       "      <td>5</td>\n",
       "    </tr>\n",
       "    <tr>\n",
       "      <th>3</th>\n",
       "      <td>11.2</td>\n",
       "      <td>0.28</td>\n",
       "      <td>0.56</td>\n",
       "      <td>1.9</td>\n",
       "      <td>0.075</td>\n",
       "      <td>17.0</td>\n",
       "      <td>60.0</td>\n",
       "      <td>0.9980</td>\n",
       "      <td>3.16</td>\n",
       "      <td>0.58</td>\n",
       "      <td>9.8</td>\n",
       "      <td>6</td>\n",
       "    </tr>\n",
       "    <tr>\n",
       "      <th>4</th>\n",
       "      <td>7.4</td>\n",
       "      <td>0.70</td>\n",
       "      <td>0.00</td>\n",
       "      <td>1.9</td>\n",
       "      <td>0.076</td>\n",
       "      <td>11.0</td>\n",
       "      <td>34.0</td>\n",
       "      <td>0.9978</td>\n",
       "      <td>3.51</td>\n",
       "      <td>0.56</td>\n",
       "      <td>9.4</td>\n",
       "      <td>5</td>\n",
       "    </tr>\n",
       "  </tbody>\n",
       "</table>\n",
       "</div>"
      ],
      "text/plain": [
       "   fixed acidity  volatile acidity  citric acid  residual sugar  chlorides  \\\n",
       "0            7.4              0.70         0.00             1.9      0.076   \n",
       "1            7.8              0.88         0.00             2.6      0.098   \n",
       "2            7.8              0.76         0.04             2.3      0.092   \n",
       "3           11.2              0.28         0.56             1.9      0.075   \n",
       "4            7.4              0.70         0.00             1.9      0.076   \n",
       "\n",
       "   free sulfur dioxide  total sulfur dioxide  density    pH  sulphates  \\\n",
       "0                 11.0                  34.0   0.9978  3.51       0.56   \n",
       "1                 25.0                  67.0   0.9968  3.20       0.68   \n",
       "2                 15.0                  54.0   0.9970  3.26       0.65   \n",
       "3                 17.0                  60.0   0.9980  3.16       0.58   \n",
       "4                 11.0                  34.0   0.9978  3.51       0.56   \n",
       "\n",
       "   alcohol  quality  \n",
       "0      9.4        5  \n",
       "1      9.8        5  \n",
       "2      9.8        5  \n",
       "3      9.8        6  \n",
       "4      9.4        5  "
      ]
     },
     "execution_count": 168,
     "metadata": {},
     "output_type": "execute_result"
    }
   ],
   "source": [
    "df = pd.read_csv('./data/winequality-red.csv')\n",
    "df.head()"
   ]
  },
  {
   "cell_type": "markdown",
   "metadata": {},
   "source": [
    "Check if there is any null data that needs to be filled in:"
   ]
  },
  {
   "cell_type": "code",
   "execution_count": 169,
   "metadata": {},
   "outputs": [
    {
     "data": {
      "text/plain": [
       "fixed acidity           0\n",
       "volatile acidity        0\n",
       "citric acid             0\n",
       "residual sugar          0\n",
       "chlorides               0\n",
       "free sulfur dioxide     0\n",
       "total sulfur dioxide    0\n",
       "density                 0\n",
       "pH                      0\n",
       "sulphates               0\n",
       "alcohol                 0\n",
       "quality                 0\n",
       "dtype: int64"
      ]
     },
     "execution_count": 169,
     "metadata": {},
     "output_type": "execute_result"
    }
   ],
   "source": [
    "df.isnull().sum()"
   ]
  },
  {
   "cell_type": "markdown",
   "metadata": {},
   "source": [
    "## 3. Prepare data\n",
    "\n",
    "There's no null data, so we can continue with processing the dataset. Here, we analyze the features to see what we're working with."
   ]
  },
  {
   "cell_type": "code",
   "execution_count": 170,
   "metadata": {},
   "outputs": [
    {
     "data": {
      "image/png": "[encoded data removed]",
      "text/plain": [
       "<Figure size 360x360 with 1 Axes>"
      ]
     },
     "metadata": {
      "needs_background": "light"
     },
     "output_type": "display_data"
    },
    {
     "data": {
      "image/png": "[encoded data removed]",
      "text/plain": [
       "<Figure size 360x360 with 1 Axes>"
      ]
     },
     "metadata": {
      "needs_background": "light"
     },
     "output_type": "display_data"
    },
    {
     "data": {
      "image/png": "[encoded data removed]",
      "text/plain": [
       "<Figure size 360x360 with 1 Axes>"
      ]
     },
     "metadata": {
      "needs_background": "light"
     },
     "output_type": "display_data"
    },
    {
     "data": {
      "image/png": "[encoded data removed]",
      "text/plain": [
       "<Figure size 360x360 with 1 Axes>"
      ]
     },
     "metadata": {
      "needs_background": "light"
     },
     "output_type": "display_data"
    },
    {
     "data": {
      "image/png": "[encoded data removed]",
      "text/plain": [
       "<Figure size 360x360 with 1 Axes>"
      ]
     },
     "metadata": {
      "needs_background": "light"
     },
     "output_type": "display_data"
    },
    {
     "data": {
      "image/png": "[encoded data removed]",
      "text/plain": [
       "<Figure size 360x360 with 1 Axes>"
      ]
     },
     "metadata": {
      "needs_background": "light"
     },
     "output_type": "display_data"
    },
    {
     "data": {
      "image/png": "[encoded data removed]",
      "text/plain": [
       "<Figure size 360x360 with 1 Axes>"
      ]
     },
     "metadata": {
      "needs_background": "light"
     },
     "output_type": "display_data"
    },
    {
     "data": {
      "image/png": "[encoded data removed]",
      "text/plain": [
       "<Figure size 360x360 with 1 Axes>"
      ]
     },
     "metadata": {
      "needs_background": "light"
     },
     "output_type": "display_data"
    },
    {
     "data": {
      "image/png": "[encoded data removed]",
      "text/plain": [
       "<Figure size 360x360 with 1 Axes>"
      ]
     },
     "metadata": {
      "needs_background": "light"
     },
     "output_type": "display_data"
    },
    {
     "data": {
      "image/png": "[encoded data removed]",
      "text/plain": [
       "<Figure size 360x360 with 1 Axes>"
      ]
     },
     "metadata": {
      "needs_background": "light"
     },
     "output_type": "display_data"
    },
    {
     "data": {
      "image/png": "[encoded data removed]",
      "text/plain": [
       "<Figure size 360x360 with 1 Axes>"
      ]
     },
     "metadata": {
      "needs_background": "light"
     },
     "output_type": "display_data"
    }
   ],
   "source": [
    "for i in df.columns:\n",
    "    if i == 'quality':\n",
    "        continue\n",
    "    df.plot(x=i, y=[\"quality\"],\n",
    "                 kind=\"scatter\", figsize=(5, 5))\n",
    "\n",
    "    # display plot\n",
    "    mp.show()\n"
   ]
  },
  {
   "cell_type": "markdown",
   "metadata": {},
   "source": [
    "Set up the x and y DataFrames. Extract NumPy ndarrays."
   ]
  },
  {
   "cell_type": "code",
   "execution_count": 171,
   "metadata": {},
   "outputs": [],
   "source": [
    "x_df = df.drop('quality', axis=1)\n",
    "y_df = df[['quality']]  "
   ]
  },
  {
   "cell_type": "code",
   "execution_count": 172,
   "metadata": {},
   "outputs": [
    {
     "name": "stdout",
     "output_type": "stream",
     "text": [
      "[ 15.9       1.58      1.       15.5       0.611    72.      289.\n",
      "   1.00369   4.01      2.       14.9    ]\n"
     ]
    }
   ],
   "source": [
    "X = x_df.to_numpy()\n",
    "y = y_df.to_numpy().reshape(len(X), 1)\n",
    "# Scale all inputs from 0 to 1\n",
    "print(X.max(axis=0))\n",
    "X = X / X.max(axis=0)"
   ]
  },
  {
   "cell_type": "markdown",
   "metadata": {},
   "source": [
    "Insert ones for w_0."
   ]
  },
  {
   "cell_type": "code",
   "execution_count": 173,
   "metadata": {},
   "outputs": [],
   "source": [
    "m = np.size(y)\n",
    "X = np.insert(X, 0, np.ones(m), axis=1)"
   ]
  },
  {
   "cell_type": "markdown",
   "metadata": {},
   "source": [
    "## 4. Create train/test/validate arrays\n",
    "\n",
    "Create the train and test NumPy ndarrays with random data from dataset."
   ]
  },
  {
   "cell_type": "code",
   "execution_count": 174,
   "metadata": {},
   "outputs": [
    {
     "name": "stdout",
     "output_type": "stream",
     "text": [
      "1599 1279 160 160\n"
     ]
    }
   ],
   "source": [
    "nb_samples = X.shape[0]\n",
    "border1 = int(0.8*nb_samples)\n",
    "border2 = int(0.9*nb_samples)\n",
    "\n",
    "indices = np.random.permutation(nb_samples)\n",
    "train_indices = indices[:border1]\n",
    "validate_indices = indices[border1:border2]\n",
    "test_indices = indices[border2:]\n",
    "\n",
    "X_train = X[train_indices]\n",
    "y_train = y[train_indices]\n",
    "\n",
    "X_validate = X[validate_indices]\n",
    "y_validate = y[validate_indices]\n",
    "\n",
    "X_test = X[test_indices]\n",
    "y_test = y[test_indices]\n",
    "\n",
    "print(nb_samples, len(X_train), len(X_validate), len(X_test))"
   ]
  },
  {
   "cell_type": "markdown",
   "metadata": {},
   "source": [
    "## 5. Training\n",
    "\n",
    "The actual algorithm functions."
   ]
  },
  {
   "cell_type": "code",
   "execution_count": 221,
   "metadata": {},
   "outputs": [],
   "source": [
    "def computecost(xx, yy, theta):\n",
    "\n",
    "    a = 1/(2*m)\n",
    "    b = np.nansum((np.dot(xx, theta).flatten()-yy.flatten())**2)\n",
    "    j = (a)*(b)\n",
    "\n",
    "    return j\n",
    "\n",
    "\n",
    "def accuracy(xx, yy, theta):\n",
    "    return ((np.abs(y_test.flatten() - hypothesis(theta, X_test).flatten())) < 1).sum() / y_test.shape[0]\n",
    "    # return 1 - (np.abs(np.ones(y_test.shape[0]).flatten() - np.divide(y_test.flatten(), hypothesis(theta, X_test).flatten()))).mean()\n",
    "\n",
    "\n",
    "def gradient_function(y_pred, y_truth):\n",
    "    out_matrix = (y_pred.flatten() - y_truth.flatten())\n",
    "\n",
    "    return out_matrix\n",
    "\n",
    "\n",
    "def hypothesis(theta, xx):\n",
    "    return np.dot(xx, theta)\n",
    "\n",
    "\n",
    "def cost(theta, xx, yy):\n",
    "    return np.sum((np.dot(xx, theta) - yy)**2)\n",
    "\n",
    "\n",
    "def gradient(xx, yy, theta, iteration):\n",
    "\n",
    "    alpha = 0.01\n",
    "    J_history = np.zeros([iteration, 1])\n",
    "\n",
    "    for iter in range(0, iteration):\n",
    "\n",
    "        # error = np.dot(xx, theta).flatten() - yy.flatten()\n",
    "        gradient = gradient_function(hypothesis(theta, xx), yy)\n",
    "        theta = theta.flatten() - ((alpha/m) * (np.dot(gradient, xx)))\n",
    "        # compute J value for each iteration\n",
    "        J_history[iter] = (1 / (2*m)) * cost(theta, xx, yy)\n",
    "    return theta, J_history\n"
   ]
  },
  {
   "cell_type": "markdown",
   "metadata": {},
   "source": [
    "## 6. Run & evaluate\n",
    "\n",
    "Run the data with a randomly-initialized Theta, and evaluate the results."
   ]
  },
  {
   "cell_type": "code",
   "execution_count": 229,
   "metadata": {},
   "outputs": [
    {
     "name": "stdout",
     "output_type": "stream",
     "text": [
      "Zero computation: 1.8239970491374917\n",
      "Iteration 0 Train: 0.24251113917849798, Validate: 0.03003299957749421\n",
      "Iteration 1 Train: 0.2376561380813251, Validate: 0.02971179757534101\n",
      "Iteration 2 Train: 0.2358853302282051, Validate: 0.029563645312084656\n",
      "Iteration 3 Train: 0.2341775397336624, Validate: 0.02941232198695779\n",
      "Iteration 4 Train: 0.2325247110976533, Validate: 0.029265873947669743\n",
      "Iteration 5 Train: 0.23092466853888544, Validate: 0.029124494019431423\n",
      "Iteration 6 Train: 0.2293753421045175, Validate: 0.028987999109780376\n",
      "Iteration 7 Train: 0.22787475224045492, Validate: 0.028856197524084144\n",
      "Iteration 8 Train: 0.22642100561543052, Validate: 0.028728905160093063\n",
      "Iteration 9 Train: 0.22501229116295587, Validate: 0.028605945868898777\n",
      "Iteration 10 Train: 0.22364687631044555, Validate: 0.02848715112197853\n",
      "Iteration 11 Train: 0.22232310338640174, Validate: 0.028372359663664786\n",
      "Iteration 12 Train: 0.2210393861970435, Validate: 0.028261417178710058\n",
      "Iteration 13 Train: 0.21979420676419134, Validate: 0.028154175975509222\n",
      "Iteration 14 Train: 0.21858611221662644, Validate: 0.02805049468427591\n",
      "Iteration 15 Train: 0.21741371182752947, Validate: 0.02795023796944924\n",
      "Iteration 16 Train: 0.21627567419096944, Validate: 0.02785327625564147\n",
      "Iteration 17 Train: 0.21517072453076122, Validate: 0.02775948546647091\n",
      "Iteration 18 Train: 0.21409764213533913, Validate: 0.02766874677565787\n",
      "Iteration 19 Train: 0.21305525791260815, Validate: 0.027580946369791717\n",
      "Iteration 20 Train: 0.2120424520590287, Validate: 0.027495975222207213\n",
      "Iteration 21 Train: 0.21105815183747556, Validate: 0.02741372887743566\n",
      "Iteration 22 Train: 0.21010132945867746, Validate: 0.027334107245723098\n",
      "Iteration 23 Train: 0.20917100006129696, Validate: 0.027257014407132955\n",
      "Iteration 24 Train: 0.20826621978595383, Validate: 0.027182358424774105\n",
      "Iteration 25 Train: 0.20738608393872193, Validate: 0.027110051166718097\n",
      "Iteration 26 Train: 0.20652972523984872, Validate: 0.027040008136190754\n",
      "Iteration 27 Train: 0.20569631215365125, Validate: 0.02697214830964347\n",
      "Iteration 28 Train: 0.20488504729574117, Validate: 0.026906393982329094\n",
      "Iteration 29 Train: 0.20409516591391574, Validate: 0.026842670621025588\n",
      "Iteration 30 Train: 0.2033259344392308, Validate: 0.026780906723567904\n",
      "Iteration 31 Train: 0.20257664910393738, Validate: 0.026721033684865104\n",
      "Iteration 32 Train: 0.20184663462312774, Validate: 0.026662985669095713\n",
      "Iteration 33 Train: 0.2011352429370839, Validate: 0.02660669948778875\n",
      "Iteration 34 Train: 0.20044185201147088, Validate: 0.026552114483512503\n",
      "Iteration 35 Train: 0.1997658646926513, Validate: 0.02649917241890616\n",
      "Iteration 36 Train: 0.19910670761552934, Validate: 0.026447817370802606\n",
      "Iteration 37 Train: 0.19846383016145794, Validate: 0.0263979956292025\n",
      "Iteration 38 Train: 0.19783670346385784, Validate: 0.02634965560087147\n",
      "Iteration 39 Train: 0.1972248194593143, Validate: 0.026302747717343342\n",
      "Iteration 40 Train: 0.19662768998201927, Validate: 0.026257224347122358\n",
      "Iteration 41 Train: 0.1960448458995311, Validate: 0.0262130397118878\n",
      "Iteration 42 Train: 0.19547583628792162, Validate: 0.02617014980651344\n",
      "Iteration 43 Train: 0.19492022764446834, Validate: 0.02612851232272338\n",
      "Iteration 44 Train: 0.19437760313614272, Validate: 0.026088086576214357\n",
      "Iteration 45 Train: 0.1938475618822223, Validate: 0.026048833437082773\n",
      "Iteration 46 Train: 0.19332971826944012, Validate: 0.026010715263402165\n",
      "Iteration 47 Train: 0.1928237012981549, Validate: 0.02597369583780451\n",
      "Iteration 48 Train: 0.19232915395810088, Validate: 0.02593774030692553\n",
      "Iteration 49 Train: 0.19184573263234203, Validate: 0.025902815123580784\n",
      "Iteration 50 Train: 0.19137310652812273, Validate: 0.02586888799154578\n",
      "Iteration 51 Train: 0.1909109571333657, Validate: 0.02583592781281931\n",
      "Iteration 52 Train: 0.19045897769763073, Validate: 0.025803904637254765\n",
      "Iteration 53 Train: 0.19001687273639992, Validate: 0.025772789614450016\n",
      "Iteration 54 Train: 0.18958435755761185, Validate: 0.02574255494779109\n",
      "Iteration 55 Train: 0.18916115780941534, Validate: 0.025713173850550313\n",
      "Iteration 56 Train: 0.18874700904816338, Validate: 0.02568462050394402\n",
      "Iteration 57 Train: 0.18834165632571345, Validate: 0.025656870017059373\n",
      "Iteration 58 Train: 0.1879448537951438, Validate: 0.025629898388564214\n",
      "Iteration 59 Train: 0.18755636433403833, Validate: 0.025603682470117847\n",
      "Iteration 60 Train: 0.18717595918453014, Validate: 0.025578199931404557\n",
      "Iteration 61 Train: 0.1868034176093354, Validate: 0.025553429226715295\n",
      "Iteration 62 Train: 0.1864385265630401, Validate: 0.025529349563006343\n",
      "Iteration 63 Train: 0.1860810803779432, Validate: 0.025505940869367444\n",
      "Iteration 64 Train: 0.18573088046378464, Validate: 0.025483183767834722\n",
      "Iteration 65 Train: 0.18538773502072586, Validate: 0.025461059545486726\n",
      "Iteration 66 Train: 0.18505145876497361, Validate: 0.025439550127765158\n",
      "Iteration 67 Train: 0.1847218726664701, Validate: 0.025418638052964224\n",
      "Iteration 68 Train: 0.1843988036980978, Validate: 0.025398306447835233\n",
      "Iteration 69 Train: 0.18408208459587316, Validate: 0.025378539004255702\n",
      "Iteration 70 Train: 0.18377155362962877, Validate: 0.025359319956914518\n",
      "Iteration 71 Train: 0.1834670543837052, Validate: 0.025340634061966773\n",
      "Iteration 72 Train: 0.18316843554719742, Validate: 0.025322466576614445\n",
      "Iteration 73 Train: 0.18287555071332165, Validate: 0.025304803239570642\n",
      "Iteration 74 Train: 0.18258825818748736, Validate: 0.025287630252367584\n",
      "Iteration 75 Train: 0.18230642080368048, Validate: 0.02527093426146993\n",
      "Iteration 76 Train: 0.18202990574878025, Validate: 0.025254702341157047\n",
      "Iteration 77 Train: 0.18175858439445067, Validate: 0.025238921977139603\n",
      "Iteration 78 Train: 0.1814923321362641, Validate: 0.025223581050877113\n",
      "Iteration 79 Train: 0.18123102823972964, Validate: 0.02520866782456502\n",
      "Iteration 80 Train: 0.18097455569291515, Validate: 0.025194170926761034\n",
      "Iteration 81 Train: 0.18072280106536517, Validate: 0.02518007933862199\n",
      "Iteration 82 Train: 0.18047565437303148, Validate: 0.0251663823807239\n",
      "Iteration 83 Train: 0.18023300894894564, Validate: 0.025153069700438884\n",
      "Iteration 84 Train: 0.17999476131937497, Validate: 0.025140131259844028\n",
      "Iteration 85 Train: 0.1797608110852173, Validate: 0.02512755732413852\n",
      "Iteration 86 Train: 0.17953106080839748, Validate: 0.025115338450546157\n",
      "Iteration 87 Train: 0.17930541590304422, Validate: 0.025103465477681535\n",
      "Iteration 88 Train: 0.1790837845312308, Validate: 0.02509192951535952\n",
      "Iteration 89 Train: 0.17886607750307834, Validate: 0.025080721934827938\n",
      "Iteration 90 Train: 0.17865220818102523, Validate: 0.02506983435940476\n",
      "Iteration 91 Train: 0.1784420923880778, Validate: 0.025059258655501963\n",
      "Iteration 92 Train: 0.17823564831986566, Validate: 0.025048986924018787\n",
      "Iteration 93 Train: 0.17803279646033168, Validate: 0.025039011492087992\n",
      "Iteration 94 Train: 0.1778334595008961, Validate: 0.025029324905159658\n",
      "Iteration 95 Train: 0.17763756226294092, Validate: 0.025019919919407472\n",
      "Iteration 96 Train: 0.177445031623467, Validate: 0.025010789494443502\n",
      "Iteration 97 Train: 0.17725579644378492, Validate: 0.025001926786327563\n",
      "Iteration 98 Train: 0.17706978750110489, Validate: 0.02499332514085854\n",
      "Iteration 99 Train: 0.17688693742289827, Validate: 0.024984978087135193\n",
      "Iteration 100 Train: 0.1767071806239094, Validate: 0.024976879331374578\n",
      "Iteration 101 Train: 0.17653045324570096, Validate: 0.024969022750976906\n",
      "Iteration 102 Train: 0.17635669309862215, Validate: 0.024961402388826093\n",
      "Iteration 103 Train: 0.1761858396060935, Validate: 0.024954012447815664\n",
      "Iteration 104 Train: 0.17601783375110772, Validate: 0.02494684728559033\n",
      "Iteration 105 Train: 0.17585261802484922, Validate: 0.0249399014094938\n",
      "Iteration 106 Train: 0.1756901363773411, Validate: 0.0249331694717139\n",
      "Iteration 107 Train: 0.17553033417003105, Validate: 0.0249266462646165\n",
      "Iteration 108 Train: 0.17537315813023255, Validate: 0.02492032671626011\n",
      "Iteration 109 Train: 0.17521855630734012, Validate: 0.024914205886083448\n",
      "Iteration 110 Train: 0.1750664780307444, Validate: 0.024908278960758295\n",
      "Iteration 111 Train: 0.17491687386937096, Validate: 0.02490254125020091\n",
      "Iteration 112 Train: 0.1747696955927753, Validate: 0.02489698818373498\n",
      "Iteration 113 Train: 0.17462489613372664, Validate: 0.02489161530639971\n",
      "Iteration 114 Train: 0.17448242955221646, Validate: 0.024886418275396942\n",
      "Iteration 115 Train: 0.17434225100083164, Validate: 0.02488139285667126\n",
      "Iteration 116 Train: 0.17420431669143363, Validate: 0.024876534921617625\n",
      "Iteration 117 Train: 0.1740685838630886, Validate: 0.024871840443911088\n",
      "Iteration 118 Train: 0.17393501075119505, Validate: 0.024867305496453326\n",
      "Iteration 119 Train: 0.17380355655775892, Validate: 0.024862926248431262\n",
      "Iteration 120 Train: 0.17367418142276772, Validate: 0.02485869896248306\n",
      "Iteration 121 Train: 0.17354684639661674, Validate: 0.024854619991966833\n",
      "Iteration 122 Train: 0.1734215134135442, Validate: 0.024850685778327993\n",
      "Iteration 123 Train: 0.17329814526603302, Validate: 0.0248468928485611\n",
      "Iteration 124 Train: 0.17317670558013834, Validate: 0.024843237812762178\n",
      "Iteration 125 Train: 0.17305715879170272, Validate: 0.02483971736176788\n",
      "Iteration 126 Train: 0.17293947012342245, Validate: 0.024836328264877954\n",
      "Iteration 127 Train: 0.17282360556272947, Validate: 0.024833067367657495\n",
      "Iteration 128 Train: 0.1727095318404553, Validate: 0.024829931589815713\n",
      "Iteration 129 Train: 0.17259721641024525, Validate: 0.02482691792315828\n",
      "Iteration 130 Train: 0.1724866274286916, Validate: 0.024824023429610043\n",
      "Iteration 131 Train: 0.1723777337361575, Validate: 0.024821245239305394\n",
      "Iteration 132 Train: 0.1722705048382615, Validate: 0.024818580548743495\n",
      "Iteration 133 Train: 0.17216491088799926, Validate: 0.02481602661900589\n",
      "Iteration 134 Train: 0.17206092266847256, Validate: 0.024813580774033745\n",
      "Iteration 135 Train: 0.17195851157620493, Validate: 0.024811240398962636\n",
      "Iteration 136 Train: 0.17185764960501845, Validate: 0.024809002938512438\n",
      "Iteration 137 Train: 0.17175830933044897, Validate: 0.02480686589543013\n",
      "Iteration 138 Train: 0.1716604638946803, Validate: 0.02480482682898346\n",
      "Iteration 139 Train: 0.17156408699197462, Validate: 0.02480288335350349\n",
      "Iteration 140 Train: 0.17146915285458084, Validate: 0.024801033136974175\n",
      "Iteration 141 Train: 0.17137563623910204, Validate: 0.024799273899666942\n",
      "Iteration 142 Train: 0.17128351241330345, Validate: 0.02479760341281873\n",
      "Iteration 143 Train: 0.1711927571433441, Validate: 0.024796019497351773\n",
      "Iteration 144 Train: 0.17110334668141602, Validate: 0.024794520022633423\n",
      "Iteration 145 Train: 0.17101525775377507, Validate: 0.024793102905274596\n",
      "Iteration 146 Train: 0.1709284675491477, Validate: 0.02479176610796531\n",
      "Iteration 147 Train: 0.17084295370750027, Validate: 0.024790507638345984\n",
      "Iteration 148 Train: 0.17075869430915683, Validate: 0.024789325547912997\n",
      "Iteration 149 Train: 0.170675667864251, Validate: 0.024788217930957493\n",
      "Iteration 150 Train: 0.17059385330250182, Validate: 0.024787182923535774\n",
      "Iteration 151 Train: 0.1705132299632983, Validate: 0.0247862187024707\n",
      "Iteration 152 Train: 0.17043377758608386, Validate: 0.024785323484382265\n",
      "Iteration 153 Train: 0.17035547630102807, Validate: 0.024784495524746916\n",
      "Iteration 154 Train: 0.1702783066199751, Validate: 0.0247837331169841\n",
      "Iteration 155 Train: 0.17020224942765919, Validate: 0.0247830345915693\n",
      "Iteration 156 Train: 0.17012728597317733, Validate: 0.024782398315172535\n",
      "Iteration 157 Train: 0.1700533978617092, Validate: 0.024781822689821386\n",
      "Iteration 158 Train: 0.1699805670464762, Validate: 0.024781306152087748\n",
      "Iteration 159 Train: 0.1699087758209303, Validate: 0.024780847172297307\n",
      "Iteration 160 Train: 0.1698380068111651, Validate: 0.024780444253761212\n",
      "Iteration 161 Train: 0.1697682429685404, Validate: 0.024780095932028887\n",
      "Iteration 162 Train: 0.16969946756251367, Validate: 0.02477980077416134\n",
      "Iteration 163 Train: 0.16963166417367034, Validate: 0.0247795573780244\n",
      "Iteration 164 Train: 0.1695648166869463, Validate: 0.02477936437160097\n",
      "Iteration 165 Train: 0.16949890928503605, Validate: 0.02477922041232182\n",
      "Iteration 166 Train: 0.16943392644197988, Validate: 0.02477912418641422\n",
      "Iteration 167 Train: 0.16936985291692372, Validate: 0.024779074408267727\n",
      "Iteration 168 Train: 0.1693066737480466, Validate: 0.02477906981981681\n",
      "Iteration 169 Train: 0.16924437424664873, Validate: 0.024779109189939412\n",
      "Iteration 170 Train: 0.16918293999139628, Validate: 0.02477919131387121\n",
      "Iteration 171 Train: 0.16912235682271634, Validate: 0.024779315012634872\n",
      "Iteration 172 Train: 0.16906261083733756, Validate: 0.02477947913248397\n",
      "Iteration 173 Train: 0.1690036883829724, Validate: 0.02477968254436087\n",
      "Iteration 174 Train: 0.16894557605313434, Validate: 0.024779924143368423\n",
      "Iteration 175 Train: 0.1688882606820884, Validate: 0.024780202848254745\n",
      "Iteration 176 Train: 0.16883172933992793, Validate: 0.024780517600910865\n",
      "Iteration 177 Train: 0.16877596932777572, Validate: 0.024780867365880737\n",
      "Iteration 178 Train: 0.168720968173104, Validate: 0.02478125112988328\n",
      "Iteration 179 Train: 0.1686667136251708, Validate: 0.02478166790134598\n",
      "Iteration 180 Train: 0.1686131936505675, Validate: 0.024782116709949932\n",
      "Iteration 181 Train: 0.168560396428876, Validate: 0.024782596606185522\n",
      "Iteration 182 Train: 0.16850831034843008, Validate: 0.0247831066609191\n",
      "Iteration 183 Train: 0.1684569240021794, Validate: 0.024783645964969535\n",
      "Iteration 184 Train: 0.16840622618365186, Validate: 0.02478421362869503\n",
      "Iteration 185 Train: 0.16835620588301226, Validate: 0.02478480878158943\n",
      "Iteration 186 Train: 0.16830685228321338, Validate: 0.02478543057188808\n",
      "Iteration 187 Train: 0.1682581547562374, Validate: 0.02478607816618261\n",
      "Iteration 188 Train: 0.16821010285942511, Validate: 0.024786750749044774\n",
      "Iteration 189 Train: 0.16816268633188938, Validate: 0.02478744752265872\n",
      "Iteration 190 Train: 0.16811589509101146, Validate: 0.024788167706461656\n",
      "Iteration 191 Train: 0.16806971922901714, Validate: 0.024788910536792785\n",
      "Iteration 192 Train: 0.16802414900963064, Validate: 0.024789675266549783\n",
      "Iteration 193 Train: 0.16797917486480388, Validate: 0.02479046116485332\n",
      "Iteration 194 Train: 0.1679347873915189, Validate: 0.024791267516718785\n",
      "Iteration 195 Train: 0.16789097734866204, Validate: 0.024792093622735333\n",
      "Iteration 196 Train: 0.16784773565396685, Validate: 0.024792938798752027\n",
      "Iteration 197 Train: 0.1678050533810243, Validate: 0.024793802375570752\n",
      "Iteration 198 Train: 0.1677629217563588, Validate: 0.024794683698645868\n",
      "Iteration 199 Train: 0.16772133215656784, Validate: 0.02479558212779035\n",
      "Test: 0.023912730375363914\n",
      "Accuracy: 84.4%\n"
     ]
    }
   ],
   "source": [
    "theta = np.random.rand(len(X.T), 1)\n",
    "print(f'Zero computation: {computecost(X_train, y_train, theta)}')\n",
    "for i in range(200):\n",
    "    theta, J = gradient(X_train, y_train, theta, 100)\n",
    "    print(\n",
    "        f'Iteration {i} Train: {computecost(X_train, y_train, theta)}, Validate: {computecost(X_validate, y_validate, theta)}')\n",
    "\n",
    "print(f'Test: {computecost(X_test, y_test, theta)}')\n",
    "print(f'Accuracy: {accuracy(X_test, y_test, theta)*100:.1f}%')"
   ]
  }
 ],
 "metadata": {
  "kernelspec": {
   "display_name": "Python 3.7.0 64-bit",
   "language": "python",
   "name": "python3"
  },
  "language_info": {
   "codemirror_mode": {
    "name": "ipython",
    "version": 3
   },
   "file_extension": ".py",
   "mimetype": "text/x-python",
   "name": "python",
   "nbconvert_exporter": "python",
   "pygments_lexer": "ipython3",
   "version": "3.7.0"
  },
  "orig_nbformat": 4,
  "vscode": {
   "interpreter": {
    "hash": "5109d816b82be14675a6b11f8e0f0d2e80f029176ed3710d54e125caa8520dfd"
   }
  }
 },
 "nbformat": 4,
 "nbformat_minor": 2
}
